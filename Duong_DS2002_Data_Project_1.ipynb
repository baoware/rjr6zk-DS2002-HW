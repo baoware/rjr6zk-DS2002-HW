{
 "cells": [
  {
   "cell_type": "code",
   "execution_count": 33,
   "metadata": {
    "id": "3UdHIMOJJC1M"
   },
   "outputs": [],
   "source": [
    "# import statements\n",
    "import requests\n",
    "import requests.exceptions\n",
    "import base64\n",
    "import json\n",
    "import pandas as pd\n",
    "import pprint\n",
    "import sqlite3"
   ]
  },
  {
   "cell_type": "code",
   "execution_count": 35,
   "metadata": {
    "colab": {
     "base_uri": "https://localhost:8080/"
    },
    "id": "Q8umxOY8_9oo",
    "outputId": "8243f12d-3afd-4273-db15-e1b760c1885c"
   },
   "outputs": [
    {
     "name": "stdout",
     "output_type": "stream",
     "text": [
      "Client ID and secret instantiated!\n"
     ]
    }
   ],
   "source": [
    "# instantiate API keys\n",
    "client_id = 'c06c947b53ce48a89b0dd1b7f1e7b045'\n",
    "client_secret = 'f032212be7c14e7589f2d2da1d28bce4'\n",
    "print('Client ID and secret instantiated!')"
   ]
  },
  {
   "cell_type": "code",
   "execution_count": 37,
   "metadata": {
    "id": "1EBsR2xGJI3e"
   },
   "outputs": [],
   "source": [
    "# function for getting access token through client credentials authentication\n",
    "def get_access_token(client_id, client_secret):\n",
    "    # try API call\n",
    "    try:\n",
    "        auth_url = 'https://accounts.spotify.com/api/token'\n",
    "        auth_headers = { 'Authorization': f'Basic {base64.b64encode((client_id+\":\"+client_secret).encode()).decode()}'}\n",
    "        auth_data = {\n",
    "          'grant_type': 'client_credentials',\n",
    "          'client_id': client_id,\n",
    "          'client_secret': client_secret,\n",
    "        }\n",
    "\n",
    "    # exception handling for API call\n",
    "    except requests.exceptions.HTTPError as errh:\n",
    "      return \"An Http Error occurred: \" + repr(errh)\n",
    "    except requests.exceptions.ConnectionError as errc:\n",
    "      return \"An Error Connecting to the API occurred: \" + repr(errc)\n",
    "    except requests.exceptions.Timeout as errt:\n",
    "      return \"A Timeout Error occurred: \" + repr(errt)\n",
    "    except requests.exceptions.RequestException as err:\n",
    "      return \"An Unknown Error occurred: \" + repr(err)\n",
    "\n",
    "    # extract access_token from API response\n",
    "    auth_response = requests.post(auth_url, headers=auth_headers, data=auth_data)\n",
    "    auth_response_data = auth_response.json()\n",
    "    access_token = auth_response_data['access_token']\n",
    "\n",
    "    return access_token"
   ]
  },
  {
   "cell_type": "code",
   "execution_count": 39,
   "metadata": {
    "id": "Lk7saFrD2Z2f"
   },
   "outputs": [],
   "source": [
    "# function to search for song\n",
    "def search_song(song, artist, access_token):\n",
    "    try:\n",
    "        search_url = 'https://api.spotify.com/v1/search'\n",
    "        search_headers = {\n",
    "            'Authorization': f'Bearer {access_token}'\n",
    "        }\n",
    "        search_song_params = {\n",
    "            'q': f'track:{song} artist:{artist}',\n",
    "            'type': 'track',\n",
    "            'limit': 5,\n",
    "            'offset': 0\n",
    "        }\n",
    "\n",
    "        search_song_response = requests.get(search_url, headers=search_headers, params=search_song_params)\n",
    "\n",
    "        search_artist_params = {\n",
    "            'q': f'artist:{artist}',\n",
    "            'type': 'artist',\n",
    "            'limit': 5,\n",
    "            'offset': 0\n",
    "        }\n",
    "\n",
    "        search_artist_response = requests.get(search_url, headers=search_headers, params=search_artist_params)\n",
    "\n",
    "    except requests.exceptions.HTTPError as errh:\n",
    "      return \"An Http Error occurred: \" + repr(errh)\n",
    "    except requests.exceptions.ConnectionError as errc:\n",
    "      return \"An Error Connecting to the API occurred: \" + repr(errc)\n",
    "    except requests.exceptions.Timeout as errt:\n",
    "      return \"A Timeout Error occurred: \" + repr(errt)\n",
    "    except requests.exceptions.RequestException as err:\n",
    "      return \"An Unknown Error occurred: \" + repr(err)\n",
    "\n",
    "\n",
    "    search_song_response_data = search_song_response.json()\n",
    "\n",
    "    search_artist_response_data = search_artist_response.json()\n",
    "\n",
    "    if len(search_song_response_data['tracks']['items']) == 0 or len(search_artist_response_data['artists']['items']) == 0:\n",
    "          return f\"Song '{song}' by '{artist}' could not be found.\"\n",
    "\n",
    "    genres = search_artist_response_data['artists']['items'][0]['genres']\n",
    "\n",
    "    return search_song_response_data, genres"
   ]
  },
  {
   "cell_type": "code",
   "execution_count": 41,
   "metadata": {
    "id": "wIRaObsF42LB"
   },
   "outputs": [],
   "source": [
    "# function to get recommendations with API call\n",
    "def get_recs(song_id, artist_id, genres, access_token):\n",
    "    try:\n",
    "        rec_url = 'https://api.spotify.com/v1/recommendations'\n",
    "        rec_headers = {\n",
    "            'Authorization': f'Bearer {access_token}'\n",
    "        }\n",
    "        rec_params = {\n",
    "            'seed_tracks': song_id,\n",
    "            'seed_artists': artist_id,\n",
    "            'seed_genres': genres,\n",
    "            'limit': 30\n",
    "        }\n",
    "\n",
    "        rec_response = requests.get(rec_url, headers=rec_headers, params=rec_params)\n",
    "\n",
    "    except requests.exceptions.HTTPError as errh:\n",
    "      return \"An Http Error occurred: \" + repr(errh)\n",
    "    except requests.exceptions.ConnectionError as errc:\n",
    "      return \"An Error Connecting to the API occurred: \" + repr(errc)\n",
    "    except requests.exceptions.Timeout as errt:\n",
    "      return \"A Timeout Error occurred: \" + repr(errt)\n",
    "    except requests.exceptions.RequestException as err:\n",
    "      return \"An Unknown Error occurred: \" + repr(err)\n",
    "\n",
    "    rec_response_data = rec_response.json()\n",
    "\n",
    "    return rec_response_data;"
   ]
  },
  {
   "cell_type": "code",
   "execution_count": 43,
   "metadata": {
    "id": "_3VQwsevaWYh"
   },
   "outputs": [],
   "source": [
    "# function to get user input\n",
    "def get_user_input():\n",
    "    song=(input('Enter a song for recommendations: '))\n",
    "    print(song)\n",
    "    print()\n",
    "\n",
    "    artist=(input('Enter artist of song: '))\n",
    "    print(artist)\n",
    "    print()\n",
    "    return song, artist"
   ]
  },
  {
   "cell_type": "code",
   "execution_count": 45,
   "metadata": {
    "id": "Trmct_WHO2Dp"
   },
   "outputs": [],
   "source": [
    "# function to transform specified df columns\n",
    "def transform_columns(df):\n",
    "    # specify columns to be dropped\n",
    "    columns_to_drop = ['album.album_type', 'album.available_markets', 'album.external_urls.spotify', 'album.href', 'album.images',\n",
    "                     'album.name', 'album.release_date', 'album.release_date_precision', 'album.id', 'album.artists', 'album.total_tracks',\n",
    "                     'available_markets', 'disc_number', 'duration_ms', 'explicit', 'href', 'is_local', 'id', 'track_number', 'type',\n",
    "                     'uri', 'album.type', 'preview_url', 'album.uri', 'external_ids.isrc', 'popularity']\n",
    "\n",
    "    # extract just the name from artists JSONs\n",
    "    df['artists'] = df['artists'].apply(lambda x: x[0]['name'])\n",
    "\n",
    "    # drop specified columns\n",
    "    df.drop(columns=columns_to_drop, inplace=True)\n",
    "\n",
    "    return df"
   ]
  },
  {
   "cell_type": "code",
   "execution_count": 47,
   "metadata": {
    "id": "LkX3P4yokBWu"
   },
   "outputs": [],
   "source": [
    "# function for getting user input and get recommendations based on input\n",
    "def main():\n",
    "    # get access token\n",
    "    access_token = get_access_token(client_id, client_secret)\n",
    "\n",
    "    print(\"Enter a song's name and artist to receive recommendations!\")\n",
    "    print()\n",
    "\n",
    "    # loop for user input prompt with invalid response handling\n",
    "    while True:\n",
    "        song, artist = get_user_input()\n",
    "\n",
    "        if song == \"\" or artist == \"\":\n",
    "            print(\"Invalid input. Please try again.\")\n",
    "            print()\n",
    "            continue\n",
    "\n",
    "        search_response_data = search_song(song, artist, access_token)\n",
    "\n",
    "        if search_response_data == f\"Song '{song}' by '{artist}' could not be found.\":\n",
    "            print(f\"Song '{song}' by '{artist}' could not be found. Please try again.\")\n",
    "            print()\n",
    "            continue\n",
    "\n",
    "        break\n",
    "\n",
    "    # extract song_id and artist_id for API call and gets recommendations\n",
    "    search_song_response_data, genres = search_song(song, artist, access_token)\n",
    "    song_id = search_song_response_data['tracks']['items'][0]['id']\n",
    "    artist_id = search_song_response_data['tracks']['items'][0]['artists'][0]['id']\n",
    "    song_recs_json = get_recs(song_id, artist_id, genres, access_token)\n",
    "\n",
    "    return song_recs_json"
   ]
  },
  {
   "cell_type": "code",
   "execution_count": 49,
   "metadata": {
    "colab": {
     "base_uri": "https://localhost:8080/"
    },
    "id": "PSAMbmFxnXv4",
    "outputId": "a7270b37-cda0-4e0a-949d-9531238fd402"
   },
   "outputs": [
    {
     "name": "stdout",
     "output_type": "stream",
     "text": [
      "Enter a song's name and artist to receive recommendations!\n",
      "\n"
     ]
    },
    {
     "name": "stdin",
     "output_type": "stream",
     "text": [
      "Enter a song for recommendations:  Stick Season\n"
     ]
    },
    {
     "name": "stdout",
     "output_type": "stream",
     "text": [
      "Stick Season\n",
      "\n"
     ]
    },
    {
     "name": "stdin",
     "output_type": "stream",
     "text": [
      "Enter artist of song:  Noah Kahan\n"
     ]
    },
    {
     "name": "stdout",
     "output_type": "stream",
     "text": [
      "Noah Kahan\n",
      "\n"
     ]
    }
   ],
   "source": [
    "# Run this to get recommendations!\n",
    "song_recs_json=main()"
   ]
  },
  {
   "cell_type": "code",
   "execution_count": 51,
   "metadata": {
    "colab": {
     "base_uri": "https://localhost:8080/"
    },
    "id": "BLNCOVJjiGVX",
    "outputId": "10398975-68ea-4d6e-ad43-8da50a3ea43d"
   },
   "outputs": [
    {
     "name": "stdout",
     "output_type": "stream",
     "text": [
      "Number of records after file ingestion: 30\n",
      "Number of columns after file ingestion: 29\n",
      "\n",
      "Number of records after post-processing: 30\n",
      "Number of columns after post-processing: 3\n",
      "\n"
     ]
    }
   ],
   "source": [
    "# Run this to manipulate data and display most relevant columns\n",
    "df = pd.json_normalize(song_recs_json['tracks'])\n",
    "\n",
    "# Summary of file ingestion.\n",
    "print(f\"Number of records after file ingestion: {df.shape[0]}\")\n",
    "print(f\"Number of columns after file ingestion: {df.shape[1]}\")\n",
    "print()\n",
    "\n",
    "# Call function to transform columns\n",
    "df = transform_columns(df)\n",
    "\n",
    "# Summary of post-processing\n",
    "print(f\"Number of records after post-processing: {df.shape[0]}\")\n",
    "print(f\"Number of columns after post-processing: {df.shape[1]}\")\n",
    "print()"
   ]
  },
  {
   "cell_type": "code",
   "execution_count": 53,
   "metadata": {
    "colab": {
     "base_uri": "https://localhost:8080/",
     "height": 1000
    },
    "id": "SgrOadx5pvxu",
    "outputId": "c8116f8d-322c-4f22-cd96-3dee4e459419"
   },
   "outputs": [
    {
     "data": {
      "text/html": [
       "<div>\n",
       "<style scoped>\n",
       "    .dataframe tbody tr th:only-of-type {\n",
       "        vertical-align: middle;\n",
       "    }\n",
       "\n",
       "    .dataframe tbody tr th {\n",
       "        vertical-align: top;\n",
       "    }\n",
       "\n",
       "    .dataframe thead th {\n",
       "        text-align: right;\n",
       "    }\n",
       "</style>\n",
       "<table border=\"1\" class=\"dataframe\">\n",
       "  <thead>\n",
       "    <tr style=\"text-align: right;\">\n",
       "      <th></th>\n",
       "      <th>artists</th>\n",
       "      <th>name</th>\n",
       "      <th>external_urls.spotify</th>\n",
       "    </tr>\n",
       "  </thead>\n",
       "  <tbody>\n",
       "    <tr>\n",
       "      <th>0</th>\n",
       "      <td>Mon Rovîa</td>\n",
       "      <td>Big Love Ahead</td>\n",
       "      <td>https://open.spotify.com/track/3RGfmaB407YxayMDaV2jlO</td>\n",
       "    </tr>\n",
       "    <tr>\n",
       "      <th>1</th>\n",
       "      <td>Hozier</td>\n",
       "      <td>Like Real People Do</td>\n",
       "      <td>https://open.spotify.com/track/57V4uc2b2diZ4RPHXWecb9</td>\n",
       "    </tr>\n",
       "    <tr>\n",
       "      <th>2</th>\n",
       "      <td>Chris Stapleton</td>\n",
       "      <td>Starting Over</td>\n",
       "      <td>https://open.spotify.com/track/3K07bGe8iljQ3mOKArHLDo</td>\n",
       "    </tr>\n",
       "    <tr>\n",
       "      <th>3</th>\n",
       "      <td>Dean Lewis</td>\n",
       "      <td>Trust Me Mate</td>\n",
       "      <td>https://open.spotify.com/track/6KE2Oe4ezI1CeYCOFfdbx7</td>\n",
       "    </tr>\n",
       "    <tr>\n",
       "      <th>4</th>\n",
       "      <td>Chappell Roan</td>\n",
       "      <td>Red Wine Supernova</td>\n",
       "      <td>https://open.spotify.com/track/7FOgcfdz9Nx5V9lCNXdBYv</td>\n",
       "    </tr>\n",
       "    <tr>\n",
       "      <th>5</th>\n",
       "      <td>Brenn!</td>\n",
       "      <td>Revival</td>\n",
       "      <td>https://open.spotify.com/track/4TaRFbSPV4xhtRVPLs7BO7</td>\n",
       "    </tr>\n",
       "    <tr>\n",
       "      <th>6</th>\n",
       "      <td>Josiah and the Bonnevilles</td>\n",
       "      <td>Chronically Cautious</td>\n",
       "      <td>https://open.spotify.com/track/6ZrmGXr5UhSw2ymL9Bhky7</td>\n",
       "    </tr>\n",
       "    <tr>\n",
       "      <th>7</th>\n",
       "      <td>David Kushner</td>\n",
       "      <td>Burn</td>\n",
       "      <td>https://open.spotify.com/track/40dfo65kBJa1UgzkD652Gl</td>\n",
       "    </tr>\n",
       "    <tr>\n",
       "      <th>8</th>\n",
       "      <td>Caamp</td>\n",
       "      <td>Strawberries</td>\n",
       "      <td>https://open.spotify.com/track/7myzdcGa6aTaXj3Wf1V55M</td>\n",
       "    </tr>\n",
       "    <tr>\n",
       "      <th>9</th>\n",
       "      <td>Noah Kahan</td>\n",
       "      <td>Anyway</td>\n",
       "      <td>https://open.spotify.com/track/5FwlCxV2Q4xjTywLsD3Kxe</td>\n",
       "    </tr>\n",
       "    <tr>\n",
       "      <th>10</th>\n",
       "      <td>Bon Iver</td>\n",
       "      <td>Rosyln</td>\n",
       "      <td>https://open.spotify.com/track/4k7x3QKrc3h3U0Viqk0uop</td>\n",
       "    </tr>\n",
       "    <tr>\n",
       "      <th>11</th>\n",
       "      <td>Olivia Rodrigo</td>\n",
       "      <td>vampire</td>\n",
       "      <td>https://open.spotify.com/track/1kuGVB7EU95pJObxwvfwKS</td>\n",
       "    </tr>\n",
       "    <tr>\n",
       "      <th>12</th>\n",
       "      <td>Ruth B.</td>\n",
       "      <td>28 (with Dean Lewis)</td>\n",
       "      <td>https://open.spotify.com/track/3fajzhEHSdlSmY31dORz9M</td>\n",
       "    </tr>\n",
       "    <tr>\n",
       "      <th>13</th>\n",
       "      <td>Wild Rivers</td>\n",
       "      <td>Bedrock</td>\n",
       "      <td>https://open.spotify.com/track/5gzS0JyrF7IHZzMH4rNpoK</td>\n",
       "    </tr>\n",
       "    <tr>\n",
       "      <th>14</th>\n",
       "      <td>Caamp</td>\n",
       "      <td>Lavender Girl</td>\n",
       "      <td>https://open.spotify.com/track/1oWnDC5OoMPPosVY2cdXgT</td>\n",
       "    </tr>\n",
       "    <tr>\n",
       "      <th>15</th>\n",
       "      <td>Megan Moroney</td>\n",
       "      <td>Tennessee Orange</td>\n",
       "      <td>https://open.spotify.com/track/6DLbBlGIOjjEj0dNN25zhZ</td>\n",
       "    </tr>\n",
       "    <tr>\n",
       "      <th>16</th>\n",
       "      <td>Morgan Wallen</td>\n",
       "      <td>Thinkin’ Bout Me</td>\n",
       "      <td>https://open.spotify.com/track/0PAcdVzhPO4gq1Iym9ESnK</td>\n",
       "    </tr>\n",
       "    <tr>\n",
       "      <th>17</th>\n",
       "      <td>Noah Kahan</td>\n",
       "      <td>Homesick</td>\n",
       "      <td>https://open.spotify.com/track/0jkzxxDG8z3Y5OmfNl1VM0</td>\n",
       "    </tr>\n",
       "    <tr>\n",
       "      <th>18</th>\n",
       "      <td>Mumford &amp; Sons</td>\n",
       "      <td>The Cave</td>\n",
       "      <td>https://open.spotify.com/track/2F79HavLHwJlfvvJOkkIQD</td>\n",
       "    </tr>\n",
       "    <tr>\n",
       "      <th>19</th>\n",
       "      <td>The Backseat Lovers</td>\n",
       "      <td>Snowbank Blues</td>\n",
       "      <td>https://open.spotify.com/track/3SsGrCb1eaSpGhRDqPaTln</td>\n",
       "    </tr>\n",
       "    <tr>\n",
       "      <th>20</th>\n",
       "      <td>Mt. Joy</td>\n",
       "      <td>Sheep</td>\n",
       "      <td>https://open.spotify.com/track/4c8rK4SVBtKkZC2rV6azrM</td>\n",
       "    </tr>\n",
       "    <tr>\n",
       "      <th>21</th>\n",
       "      <td>BØRNS</td>\n",
       "      <td>Electric Love</td>\n",
       "      <td>https://open.spotify.com/track/2GiJYvgVaD2HtM8GqD9EgQ</td>\n",
       "    </tr>\n",
       "    <tr>\n",
       "      <th>22</th>\n",
       "      <td>Tucker Wetmore</td>\n",
       "      <td>Wind Up Missin’ You</td>\n",
       "      <td>https://open.spotify.com/track/3EO58D1YpHnTvBy68gK8HE</td>\n",
       "    </tr>\n",
       "    <tr>\n",
       "      <th>23</th>\n",
       "      <td>The 502s</td>\n",
       "      <td>Perfect Portrait of Young Love</td>\n",
       "      <td>https://open.spotify.com/track/4Q0ufr5DaYlotg3jFxpaj0</td>\n",
       "    </tr>\n",
       "    <tr>\n",
       "      <th>24</th>\n",
       "      <td>The Lumineers</td>\n",
       "      <td>Flowers In Your Hair</td>\n",
       "      <td>https://open.spotify.com/track/5PbdVk09VHHcvGa0pX86RP</td>\n",
       "    </tr>\n",
       "    <tr>\n",
       "      <th>25</th>\n",
       "      <td>Darren Kiely</td>\n",
       "      <td>Lost &amp; Found</td>\n",
       "      <td>https://open.spotify.com/track/4SH1AmMdFaGvjqRC5qCK55</td>\n",
       "    </tr>\n",
       "    <tr>\n",
       "      <th>26</th>\n",
       "      <td>Waylon Wyatt</td>\n",
       "      <td>Everything Under The Sun</td>\n",
       "      <td>https://open.spotify.com/track/5g19VWVVMCk9pc5Y0SOSGK</td>\n",
       "    </tr>\n",
       "    <tr>\n",
       "      <th>27</th>\n",
       "      <td>Mon Rovîa</td>\n",
       "      <td>To Watch the World Spin Without You</td>\n",
       "      <td>https://open.spotify.com/track/1W37DGi2nBrneQGUUMQMyt</td>\n",
       "    </tr>\n",
       "    <tr>\n",
       "      <th>28</th>\n",
       "      <td>Lewis Capaldi</td>\n",
       "      <td>Pointless</td>\n",
       "      <td>https://open.spotify.com/track/44G9fSM6qI8zRoG6Qwn3eq</td>\n",
       "    </tr>\n",
       "    <tr>\n",
       "      <th>29</th>\n",
       "      <td>Alex Warren</td>\n",
       "      <td>Before You Leave Me</td>\n",
       "      <td>https://open.spotify.com/track/2XxpxQ1PeQhPMVikjKnmJy</td>\n",
       "    </tr>\n",
       "  </tbody>\n",
       "</table>\n",
       "</div>"
      ],
      "text/plain": [
       "                       artists                                 name  \\\n",
       "0                    Mon Rovîa                       Big Love Ahead   \n",
       "1                       Hozier                  Like Real People Do   \n",
       "2              Chris Stapleton                        Starting Over   \n",
       "3                   Dean Lewis                        Trust Me Mate   \n",
       "4                Chappell Roan                   Red Wine Supernova   \n",
       "5                       Brenn!                              Revival   \n",
       "6   Josiah and the Bonnevilles                 Chronically Cautious   \n",
       "7                David Kushner                                 Burn   \n",
       "8                        Caamp                         Strawberries   \n",
       "9                   Noah Kahan                               Anyway   \n",
       "10                    Bon Iver                               Rosyln   \n",
       "11              Olivia Rodrigo                              vampire   \n",
       "12                     Ruth B.                 28 (with Dean Lewis)   \n",
       "13                 Wild Rivers                              Bedrock   \n",
       "14                       Caamp                        Lavender Girl   \n",
       "15               Megan Moroney                     Tennessee Orange   \n",
       "16               Morgan Wallen                     Thinkin’ Bout Me   \n",
       "17                  Noah Kahan                             Homesick   \n",
       "18              Mumford & Sons                             The Cave   \n",
       "19         The Backseat Lovers                       Snowbank Blues   \n",
       "20                     Mt. Joy                                Sheep   \n",
       "21                       BØRNS                        Electric Love   \n",
       "22              Tucker Wetmore                  Wind Up Missin’ You   \n",
       "23                    The 502s       Perfect Portrait of Young Love   \n",
       "24               The Lumineers                 Flowers In Your Hair   \n",
       "25                Darren Kiely                         Lost & Found   \n",
       "26                Waylon Wyatt             Everything Under The Sun   \n",
       "27                   Mon Rovîa  To Watch the World Spin Without You   \n",
       "28               Lewis Capaldi                            Pointless   \n",
       "29                 Alex Warren                  Before You Leave Me   \n",
       "\n",
       "                                    external_urls.spotify  \n",
       "0   https://open.spotify.com/track/3RGfmaB407YxayMDaV2jlO  \n",
       "1   https://open.spotify.com/track/57V4uc2b2diZ4RPHXWecb9  \n",
       "2   https://open.spotify.com/track/3K07bGe8iljQ3mOKArHLDo  \n",
       "3   https://open.spotify.com/track/6KE2Oe4ezI1CeYCOFfdbx7  \n",
       "4   https://open.spotify.com/track/7FOgcfdz9Nx5V9lCNXdBYv  \n",
       "5   https://open.spotify.com/track/4TaRFbSPV4xhtRVPLs7BO7  \n",
       "6   https://open.spotify.com/track/6ZrmGXr5UhSw2ymL9Bhky7  \n",
       "7   https://open.spotify.com/track/40dfo65kBJa1UgzkD652Gl  \n",
       "8   https://open.spotify.com/track/7myzdcGa6aTaXj3Wf1V55M  \n",
       "9   https://open.spotify.com/track/5FwlCxV2Q4xjTywLsD3Kxe  \n",
       "10  https://open.spotify.com/track/4k7x3QKrc3h3U0Viqk0uop  \n",
       "11  https://open.spotify.com/track/1kuGVB7EU95pJObxwvfwKS  \n",
       "12  https://open.spotify.com/track/3fajzhEHSdlSmY31dORz9M  \n",
       "13  https://open.spotify.com/track/5gzS0JyrF7IHZzMH4rNpoK  \n",
       "14  https://open.spotify.com/track/1oWnDC5OoMPPosVY2cdXgT  \n",
       "15  https://open.spotify.com/track/6DLbBlGIOjjEj0dNN25zhZ  \n",
       "16  https://open.spotify.com/track/0PAcdVzhPO4gq1Iym9ESnK  \n",
       "17  https://open.spotify.com/track/0jkzxxDG8z3Y5OmfNl1VM0  \n",
       "18  https://open.spotify.com/track/2F79HavLHwJlfvvJOkkIQD  \n",
       "19  https://open.spotify.com/track/3SsGrCb1eaSpGhRDqPaTln  \n",
       "20  https://open.spotify.com/track/4c8rK4SVBtKkZC2rV6azrM  \n",
       "21  https://open.spotify.com/track/2GiJYvgVaD2HtM8GqD9EgQ  \n",
       "22  https://open.spotify.com/track/3EO58D1YpHnTvBy68gK8HE  \n",
       "23  https://open.spotify.com/track/4Q0ufr5DaYlotg3jFxpaj0  \n",
       "24  https://open.spotify.com/track/5PbdVk09VHHcvGa0pX86RP  \n",
       "25  https://open.spotify.com/track/4SH1AmMdFaGvjqRC5qCK55  \n",
       "26  https://open.spotify.com/track/5g19VWVVMCk9pc5Y0SOSGK  \n",
       "27  https://open.spotify.com/track/1W37DGi2nBrneQGUUMQMyt  \n",
       "28  https://open.spotify.com/track/44G9fSM6qI8zRoG6Qwn3eq  \n",
       "29  https://open.spotify.com/track/2XxpxQ1PeQhPMVikjKnmJy  "
      ]
     },
     "execution_count": 53,
     "metadata": {},
     "output_type": "execute_result"
    }
   ],
   "source": [
    "# Display song recommendations\n",
    "# Open external urls to listen\n",
    "pd.set_option('display.max_colwidth', None)\n",
    "pd.set_option('display.max_rows', None)\n",
    "\n",
    "df"
   ]
  },
  {
   "cell_type": "code",
   "execution_count": 55,
   "metadata": {
    "id": "QI5HWkYcQesZ"
   },
   "outputs": [],
   "source": [
    "# Generate csv file\n",
    "# Access file through File tab on left side of screen if using Google Colab or through Downloads if using Jupyter Notebook\n",
    "df.to_csv('song_recs.csv', index=False)"
   ]
  },
  {
   "cell_type": "code",
   "execution_count": 57,
   "metadata": {
    "id": "--iBJjQYVulF"
   },
   "outputs": [],
   "source": [
    "# Generate sqlite3 db file\n",
    "# Access file through File tab on left side of screen if using Google Colab or through Downloads if using Jupyter Notebook\n",
    "conn = sqlite3.connect('song_recs.db')\n",
    "df.to_sql('song_recs', conn, if_exists='replace', index=False)\n",
    "conn.close()"
   ]
  }
 ],
 "metadata": {
  "colab": {
   "provenance": []
  },
  "kernelspec": {
   "display_name": "Python 3 (ipykernel)",
   "language": "python",
   "name": "python3"
  },
  "language_info": {
   "codemirror_mode": {
    "name": "ipython",
    "version": 3
   },
   "file_extension": ".py",
   "mimetype": "text/x-python",
   "name": "python",
   "nbconvert_exporter": "python",
   "pygments_lexer": "ipython3",
   "version": "3.12.4"
  }
 },
 "nbformat": 4,
 "nbformat_minor": 4
}
