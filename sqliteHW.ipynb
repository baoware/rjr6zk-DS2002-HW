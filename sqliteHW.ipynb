{
  "nbformat": 4,
  "nbformat_minor": 0,
  "metadata": {
    "colab": {
      "provenance": []
    },
    "kernelspec": {
      "name": "python3",
      "display_name": "Python 3"
    },
    "language_info": {
      "name": "python"
    }
  },
  "cells": [
    {
      "cell_type": "code",
      "execution_count": 64,
      "metadata": {
        "id": "YpD1Ar5UHLrL"
      },
      "outputs": [],
      "source": [
        "import sqlite3\n",
        "import pandas as pd\n",
        "import matplotlib.pyplot as plt\n",
        "\n",
        "# Create connection\n",
        "connection = sqlite3.connect('student_grades.db')\n",
        "\n",
        "# Create cursor\n",
        "cursor = connection.cursor()\n"
      ]
    },
    {
      "cell_type": "code",
      "source": [
        "# Drop tables if already existed\n",
        "cursor.execute('''\n",
        "DROP TABLE IF EXISTS students;\n",
        "''')\n",
        "\n",
        "cursor.execute('''\n",
        "DROP TABLE IF EXISTS grades;\n",
        "''')\n",
        "\n",
        "# Create tables\n",
        "cursor.execute('''\n",
        "CREATE TABLE IF NOT EXISTS students (\n",
        "    student_id INTEGER PRIMARY KEY AUTOINCREMENT,\n",
        "    first_name TEXT,\n",
        "    last_name TEXT\n",
        ")\n",
        "''')\n",
        "\n",
        "cursor.execute('''\n",
        "CREATE TABLE IF NOT EXISTS grades (\n",
        "    grade_id INTEGER PRIMARY KEY AUTOINCREMENT,\n",
        "    subject TEXT,\n",
        "    grade INTEGER,\n",
        "    student_id INTEGER,\n",
        "    FOREIGN KEY (student_id) REFERENCES students(student_id)\n",
        ")\n",
        "''')\n",
        "\n",
        "print(\"Students table created!\")\n",
        "print(\"Grades table created!\")"
      ],
      "metadata": {
        "colab": {
          "base_uri": "https://localhost:8080/"
        },
        "id": "q4DiDfikHdO3",
        "outputId": "d7222247-65f5-4f5a-f4fe-4a2878defe83"
      },
      "execution_count": 65,
      "outputs": [
        {
          "output_type": "stream",
          "name": "stdout",
          "text": [
            "Students table created!\n",
            "Grades table created!\n"
          ]
        }
      ]
    },
    {
      "cell_type": "code",
      "source": [
        "# Create tables\n",
        "students_data = [\n",
        "    ('Alice','Johnson'),\n",
        "    ('Bob', 'Smith'),\n",
        "    ('Carol', 'White'),\n",
        "    ('David', 'Brown'),\n",
        "    ('Eve', 'Davis')\n",
        "]\n",
        "\n",
        "grades_data = [\n",
        "    (1, 'Math', 99),\n",
        "    (1, 'Science', 94),\n",
        "    (1, 'History', 89),\n",
        "    (2, 'Math', 80),\n",
        "    (2, 'Science', 85),\n",
        "    (2, 'History', 97),\n",
        "    (3, 'Math', 93),\n",
        "    (3, 'Science', 93),\n",
        "    (3, 'History', 93),\n",
        "    (4, 'Math', 94),\n",
        "    (4, 'Science', 94),\n",
        "    (4, 'History', 94),\n",
        "    (5, 'Math', 90),\n",
        "    (5, 'Science', 96),\n",
        "    (5, 'History', 90),\n",
        "]\n",
        "\n",
        "# Insert table data into SQL\n",
        "cursor.executemany('''\n",
        "INSERT INTO students (first_name, last_name) VALUES (?, ?)\n",
        "''', students_data)\n",
        "\n",
        "cursor.executemany('''\n",
        "INSERT INTO grades (student_id, subject, grade) VALUES (?, ?, ?)\n",
        "''', grades_data)\n",
        "\n",
        "# Commit changes\n",
        "connection.commit()"
      ],
      "metadata": {
        "id": "06sjaNEWJJOh"
      },
      "execution_count": 66,
      "outputs": []
    },
    {
      "cell_type": "code",
      "source": [
        "# Query every grade for every student\n",
        "cursor.execute('''\n",
        "SELECT students.first_name, students.last_name, grades.subject, grades.grade FROM students\n",
        "  JOIN grades ON students.student_id = grades.student_id\n",
        "''')\n",
        "students_grades = cursor.fetchall()\n",
        "\n",
        "for row in students_grades:\n",
        "    print(row)"
      ],
      "metadata": {
        "colab": {
          "base_uri": "https://localhost:8080/"
        },
        "id": "bwLOTb0hN6T8",
        "outputId": "e2cc8bbd-0038-41cd-9a2c-af26f6b857da"
      },
      "execution_count": 67,
      "outputs": [
        {
          "output_type": "stream",
          "name": "stdout",
          "text": [
            "('Alice', 'Johnson', 'Math', 99)\n",
            "('Alice', 'Johnson', 'Science', 94)\n",
            "('Alice', 'Johnson', 'History', 89)\n",
            "('Bob', 'Smith', 'Math', 80)\n",
            "('Bob', 'Smith', 'Science', 85)\n",
            "('Bob', 'Smith', 'History', 97)\n",
            "('Carol', 'White', 'Math', 93)\n",
            "('Carol', 'White', 'Science', 93)\n",
            "('Carol', 'White', 'History', 93)\n",
            "('David', 'Brown', 'Math', 94)\n",
            "('David', 'Brown', 'Science', 94)\n",
            "('David', 'Brown', 'History', 94)\n",
            "('Eve', 'Davis', 'Math', 90)\n",
            "('Eve', 'Davis', 'Science', 96)\n",
            "('Eve', 'Davis', 'History', 90)\n"
          ]
        }
      ]
    },
    {
      "cell_type": "code",
      "source": [
        "# Query the average grades for each student\n",
        "cursor.execute('''\n",
        "SELECT students.first_name, students.last_name, AVG(grades.grade) FROM students\n",
        "  JOIN grades ON students.student_id = grades.student_id\n",
        "    GROUP BY students.student_id;\n",
        "''')\n",
        "avg_grades = cursor.fetchall()\n",
        "\n",
        "for row in avg_grades:\n",
        "    print(row)"
      ],
      "metadata": {
        "colab": {
          "base_uri": "https://localhost:8080/"
        },
        "id": "DNNpmVcsfYE-",
        "outputId": "a435a22e-9c57-4b18-e150-013b2604719c"
      },
      "execution_count": 68,
      "outputs": [
        {
          "output_type": "stream",
          "name": "stdout",
          "text": [
            "('Alice', 'Johnson', 94.0)\n",
            "('Bob', 'Smith', 87.33333333333333)\n",
            "('Carol', 'White', 93.0)\n",
            "('David', 'Brown', 94.0)\n",
            "('Eve', 'Davis', 92.0)\n"
          ]
        }
      ]
    },
    {
      "cell_type": "code",
      "source": [
        "# Add order and limit to only query the top student\n",
        "cursor.execute('''\n",
        "SELECT students.first_name, students.last_name, AVG(grades.grade) FROM students\n",
        "  JOIN grades ON students.student_id = grades.student_id\n",
        "    GROUP BY students.student_id\n",
        "      ORDER BY AVG(grades.grade) DESC\n",
        "       LIMIT 1;\n",
        "''')\n",
        "avg_grades = cursor.fetchall()\n",
        "\n",
        "for row in avg_grades:\n",
        "    print(row)"
      ],
      "metadata": {
        "colab": {
          "base_uri": "https://localhost:8080/"
        },
        "id": "VAHtpN1iflMQ",
        "outputId": "a6cd380f-b41d-42cf-9c62-c6622ab5d0af"
      },
      "execution_count": 69,
      "outputs": [
        {
          "output_type": "stream",
          "name": "stdout",
          "text": [
            "('David', 'Brown', 94.0)\n"
          ]
        }
      ]
    },
    {
      "cell_type": "code",
      "source": [
        "# Query the average grade for Math\n",
        "cursor.execute('''\n",
        "SELECT AVG(grade) FROM grades WHERE subject='Math';\n",
        "''')\n",
        "avg_grades = cursor.fetchone()\n",
        "\n",
        "print(avg_grades[0])"
      ],
      "metadata": {
        "colab": {
          "base_uri": "https://localhost:8080/"
        },
        "id": "az8MtgZ3mZKQ",
        "outputId": "0502c797-b40b-4aff-ee88-d7dc604c7fce"
      },
      "execution_count": 70,
      "outputs": [
        {
          "output_type": "stream",
          "name": "stdout",
          "text": [
            "91.2\n"
          ]
        }
      ]
    },
    {
      "cell_type": "code",
      "source": [
        "# Query every grade over 90\n",
        "cursor.execute('''\n",
        "SELECT students.first_name, students.last_name, grades.subject, grades.grade FROM students\n",
        "  JOIN grades ON students.student_id = grades.student_id\n",
        "    WHERE grades.grade > 90;\n",
        "''')\n",
        "students_grades = cursor.fetchall()\n",
        "\n",
        "for row in students_grades:\n",
        "    print(row)"
      ],
      "metadata": {
        "colab": {
          "base_uri": "https://localhost:8080/"
        },
        "id": "ssgLOM1hmzqG",
        "outputId": "96ba58df-a52c-40e1-adcb-4068338ca5b9"
      },
      "execution_count": 71,
      "outputs": [
        {
          "output_type": "stream",
          "name": "stdout",
          "text": [
            "('Alice', 'Johnson', 'Math', 99)\n",
            "('Alice', 'Johnson', 'Science', 94)\n",
            "('Bob', 'Smith', 'History', 97)\n",
            "('Carol', 'White', 'Math', 93)\n",
            "('Carol', 'White', 'Science', 93)\n",
            "('Carol', 'White', 'History', 93)\n",
            "('David', 'Brown', 'Math', 94)\n",
            "('David', 'Brown', 'Science', 94)\n",
            "('David', 'Brown', 'History', 94)\n",
            "('Eve', 'Davis', 'Science', 96)\n"
          ]
        }
      ]
    },
    {
      "cell_type": "code",
      "source": [
        "# Load SQL tables into dataframes\n",
        "students = pd.read_sql_query('SELECT * FROM students', connection)\n",
        "grades = pd.read_sql_query('SELECT * FROM grades',  connection)\n",
        "\n",
        "# Join SQL tables into a dataframe\n",
        "students_grades = pd.read_sql_query('''\n",
        "SELECT students.first_name, students.last_name, grades.subject, grades.grade FROM students\n",
        "  JOIN grades ON students.student_id = grades.student_id\n",
        "''', connection)\n",
        "\n",
        "print(students_grades)"
      ],
      "metadata": {
        "colab": {
          "base_uri": "https://localhost:8080/"
        },
        "id": "O88IVY4doU1h",
        "outputId": "ccb73599-bc34-4aff-92b7-26334d7b919b"
      },
      "execution_count": 72,
      "outputs": [
        {
          "output_type": "stream",
          "name": "stdout",
          "text": [
            "   first_name last_name  subject  grade\n",
            "0       Alice   Johnson     Math     99\n",
            "1       Alice   Johnson  Science     94\n",
            "2       Alice   Johnson  History     89\n",
            "3         Bob     Smith     Math     80\n",
            "4         Bob     Smith  Science     85\n",
            "5         Bob     Smith  History     97\n",
            "6       Carol     White     Math     93\n",
            "7       Carol     White  Science     93\n",
            "8       Carol     White  History     93\n",
            "9       David     Brown     Math     94\n",
            "10      David     Brown  Science     94\n",
            "11      David     Brown  History     94\n",
            "12        Eve     Davis     Math     90\n",
            "13        Eve     Davis  Science     96\n",
            "14        Eve     Davis  History     90\n"
          ]
        }
      ]
    },
    {
      "cell_type": "code",
      "source": [
        "# Load average grades into a dataframe\n",
        "avg_student_grades = pd.read_sql_query('''\n",
        "SELECT students.first_name, students.last_name, AVG(grades.grade) FROM students\n",
        "  JOIN grades ON students.student_id = grades.student_id\n",
        "    GROUP BY students.student_id;\n",
        "''', connection)\n",
        "\n",
        "# Create bar chart to display avg_student_grades\n",
        "plt.figure(figsize=(10,6))\n",
        "plt.bar(avg_student_grades['first_name'], avg_student_grades['AVG(grades.grade)'], color='lightgreen')\n",
        "plt.xlabel('Student')\n",
        "plt.ylabel('Average Grade')\n",
        "plt.title('Average Grade of Students')\n",
        "# Formatting for readability\n",
        "plt.yticks([70,75,80,85,90,95,100])\n",
        "plt.ylim(70,100)\n",
        "plt.show()"
      ],
      "metadata": {
        "colab": {
          "base_uri": "https://localhost:8080/",
          "height": 564
        },
        "id": "CW9spVZDB3lk",
        "outputId": "a9838aaa-b8b7-4c79-90ac-b7fe5d5568a4"
      },
      "execution_count": 74,
      "outputs": [
        {
          "output_type": "display_data",
          "data": {
            "text/plain": [
              "<Figure size 1000x600 with 1 Axes>"
            ],
            "image/png": "[encoded data removed]"
          },
          "metadata": {}
        }
      ]
    },
    {
      "cell_type": "code",
      "source": [
        "# Load average subject grades into a dataframe\n",
        "avg_subject_grades = pd.read_sql_query('''\n",
        "SELECT grades.subject, AVG(grades.grade) FROM grades\n",
        "    GROUP BY grades.subject;\n",
        "''', connection)\n",
        "\n",
        "# Create bar chart\n",
        "plt.figure(figsize=(10,6))\n",
        "plt.bar(avg_subject_grades['subject'], avg_subject_grades['AVG(grades.grade)'], color='lightgreen')\n",
        "plt.xlabel('Subject')\n",
        "plt.ylabel('Average Grade')\n",
        "plt.title('Average Grade of Subjects')\n",
        "plt.yticks([70,75,80,85,90,95,100])\n",
        "plt.ylim(70,100)\n",
        "plt.show()"
      ],
      "metadata": {
        "colab": {
          "base_uri": "https://localhost:8080/",
          "height": 564
        },
        "id": "FERxV5zeDEhJ",
        "outputId": "4fccd899-9389-4449-88b2-b214fd5768d1"
      },
      "execution_count": 108,
      "outputs": [
        {
          "output_type": "display_data",
          "data": {
            "text/plain": [
              "<Figure size 1000x600 with 1 Axes>"
            ],
            "image/png": "[encoded data removed]"
          },
          "metadata": {}
        }
      ]
    },
    {
      "cell_type": "markdown",
      "source": [],
      "metadata": {
        "id": "8ZPbpuS7cygF"
      }
    },
    {
      "cell_type": "code",
      "source": [
        "# Bonus\n",
        "cursor.execute('''\n",
        "SELECT students.first_name, students.last_name, grades.subject, MAX(grades.grade) FROM students\n",
        "  JOIN grades ON students.student_id = grades.student_id\n",
        "    GROUP BY grades.subject\n",
        "''')\n",
        "\n",
        "top_subject_grades = cursor.fetchall()\n",
        "\n",
        "print(top_subject_grades)\n",
        "\n",
        "# Load data from top_subject_grades to be used in grouped bar chart\n",
        "subjects = [row[2] for row in top_subject_grades]\n",
        "grades = [row[3] for row in top_subject_grades]\n",
        "students = [row[0] for row in top_subject_grades]\n",
        "\n",
        "# Create grouped bar chart\n",
        "plt.figure(figsize=(10, 6))\n",
        "# Choose x and y axes\n",
        "plt.bar( subjects, grades, color='lightcoral', label='Highest Grade')\n",
        "plt.title('Students with Highest Grade in Each Subject')\n",
        "plt.xlabel('Subject')\n",
        "plt.ylabel('Grade')\n",
        "# Label bars according to students who earned the grade\n",
        "for i, grade in enumerate(grades):\n",
        "    plt.text(i, grade+0.10, students[i], ha='center')\n",
        "plt.yticks([95,96,97,98,99,100])\n",
        "plt.ylim(95,100)\n",
        "plt.show()"
      ],
      "metadata": {
        "colab": {
          "base_uri": "https://localhost:8080/",
          "height": 582
        },
        "id": "TdslZYdyE0yA",
        "outputId": "f3f73cc2-776e-4d10-93c3-5138b80ac70e"
      },
      "execution_count": 106,
      "outputs": [
        {
          "output_type": "stream",
          "name": "stdout",
          "text": [
            "[('Bob', 'Smith', 'History', 97), ('Alice', 'Johnson', 'Math', 99), ('Eve', 'Davis', 'Science', 96)]\n"
          ]
        },
        {
          "output_type": "display_data",
          "data": {
            "text/plain": [
              "<Figure size 1000x600 with 1 Axes>"
            ],
            "image/png": "[encoded data removed]"
          },
          "metadata": {}
        }
      ]
    },
    {
      "cell_type": "code",
      "source": [
        "# Close evverything\n",
        "cursor.close()\n",
        "connection.close()"
      ],
      "metadata": {
        "id": "XHVgodQMf42Z"
      },
      "execution_count": null,
      "outputs": []
    }
  ]
}